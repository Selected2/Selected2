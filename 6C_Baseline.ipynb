{
  "nbformat": 4,
  "nbformat_minor": 0,
  "metadata": {
    "colab": {
      "name": "6C_Baseline.ipynb",
      "provenance": [],
      "collapsed_sections": []
    },
    "kernelspec": {
      "name": "python3",
      "display_name": "Python 3"
    },
    "language_info": {
      "name": "python"
    }
  },
  "cells": [
    {
      "cell_type": "code",
      "execution_count": 20,
      "metadata": {
        "colab": {
          "base_uri": "https://localhost:8080/"
        },
        "id": "QxLa0mDHjdq9",
        "outputId": "e2a739b7-5d1b-4807-994d-a3beaa8d929e"
      },
      "outputs": [
        {
          "output_type": "stream",
          "name": "stdout",
          "text": [
            "Drive already mounted at /content/drive; to attempt to forcibly remount, call drive.mount(\"/content/drive\", force_remount=True).\n"
          ]
        }
      ],
      "source": [
        "\n",
        "\n",
        "from google.colab import drive\n",
        "drive.mount('/content/drive')\n",
        "\n",
        "\n"
      ]
    },
    {
      "cell_type": "code",
      "source": [
        "img_rows, img_cols = 224, 224 #number of rows and columns to convert the images to\n",
        "input_shape = (img_rows, img_cols, 3)#format to store the images (rows, columns,channels) called channels last\n"
      ],
      "metadata": {
        "id": "f4j3qX04lsXD"
      },
      "execution_count": 21,
      "outputs": []
    },
    {
      "cell_type": "code",
      "source": [
        "import numpy as np\n",
        "import urllib.request\n",
        "import cv2"
      ],
      "metadata": {
        "id": "06qXNu6vnCxQ"
      },
      "execution_count": 22,
      "outputs": []
    },
    {
      "cell_type": "code",
      "source": [
        "\n",
        "def url_to_image(url):\n",
        "\t# download the image, convert it to a NumPy array, and then read\n",
        "\t# it into OpenCV format\n",
        "\tresp = urllib.request.urlopen(url)\n",
        "\timage = np.asarray(bytearray(resp.read()), dtype=\"uint8\")\n",
        "\timage = cv2.imdecode(image, cv2.IMREAD_COLOR)\n",
        " \n",
        "\t# return the image\n",
        "\treturn image\n",
        "\n",
        "\n",
        "#%clear base_model\n"
      ],
      "metadata": {
        "id": "1NdfcdcfludQ"
      },
      "execution_count": 23,
      "outputs": []
    },
    {
      "cell_type": "code",
      "source": [
        "import tensorflow as tf\n",
        "\n",
        "base_model = tf.keras.applications.ResNet50(input_shape=(224,224, 3),weights='imagenet', include_top = False)\n",
        "x = base_model.output\n",
        "x = tf.keras.layers.GlobalAveragePooling2D()(x)\n",
        "\n",
        "x = tf.keras.layers.Dense(1024, activation='relu')(x)\n",
        "x = tf.keras.layers.Dense(1024, activation='relu')(x)\n",
        "x = tf.keras.layers.Dense(1024, activation='relu')(x)\n",
        "x = tf.keras.layers.Dense(512, activation='relu')(x)\n",
        "preds = tf.keras.layers.Dense(6, activation ='softmax')(x)\n",
        "\n",
        "model = tf.keras.models.Model(inputs=base_model.input, outputs=preds)"
      ],
      "metadata": {
        "id": "3WvDul5KlxuW"
      },
      "execution_count": 24,
      "outputs": []
    },
    {
      "cell_type": "code",
      "source": [
        "from keras.preprocessing.image import ImageDataGenerator, array_to_img, img_to_array, load_img\n",
        "\n",
        "train_datagen = ImageDataGenerator()\n",
        "valid_datagen = ImageDataGenerator()\n",
        "    \n",
        "train_generator = train_datagen.flow_from_directory(\n",
        "        '/content/drive/MyDrive/Colab Notebooks/Train Data For selected 2 project/natural_images/N/Train',\n",
        "        classes=['airplane','car','motorbike','person','flower', 'dog'],\n",
        "        target_size=(img_rows, img_cols),#The target_size is the size of your input images,every image will be resized to this size\n",
        "        batch_size=32,\n",
        "        class_mode='categorical')\n",
        "\n",
        "valid_generator = valid_datagen.flow_from_directory(\n",
        "        '/content/drive/MyDrive/Colab Notebooks/Train Data For selected 2 project/natural_images/N/Validate',\n",
        "        classes=['airplane','car','motorbike','person','flower', 'dog'],        \n",
        "        target_size=(img_rows, img_cols),#The target_size is the size of your input images,every image will be resized to this size\n",
        "        batch_size=32,\n",
        "        class_mode='categorical')"
      ],
      "metadata": {
        "colab": {
          "base_uri": "https://localhost:8080/"
        },
        "id": "xRAX_yTSl2oH",
        "outputId": "1a5102f3-636e-486c-b091-45dcc2ff647d"
      },
      "execution_count": 25,
      "outputs": [
        {
          "output_type": "stream",
          "name": "stdout",
          "text": [
            "Found 2298 images belonging to 6 classes.\n",
            "Found 1063 images belonging to 6 classes.\n"
          ]
        }
      ]
    },
    {
      "cell_type": "code",
      "source": [
        "\n",
        "for layer in base_model.layers:\n",
        "  layer.trainable = False"
      ],
      "metadata": {
        "id": "uy_bYyFNl6Y_"
      },
      "execution_count": 26,
      "outputs": []
    },
    {
      "cell_type": "code",
      "source": [
        "model.compile(optimizer='Adam', loss='categorical_crossentropy', metrics=['accuracy'])"
      ],
      "metadata": {
        "id": "_jGuC7J4l8qv"
      },
      "execution_count": 27,
      "outputs": []
    },
    {
      "cell_type": "code",
      "source": [
        "history = model.fit(\n",
        "      train_generator,\n",
        "      steps_per_epoch=train_generator.n//train_generator.batch_size,\n",
        "      epochs=5,\n",
        "      validation_data=valid_generator,\n",
        "      validation_steps=25)"
      ],
      "metadata": {
        "colab": {
          "base_uri": "https://localhost:8080/"
        },
        "id": "e8SU0H70lhNP",
        "outputId": "d0496597-9366-4638-f17b-cf5ee82a0549"
      },
      "execution_count": 28,
      "outputs": [
        {
          "output_type": "stream",
          "name": "stdout",
          "text": [
            "Epoch 1/5\n",
            "71/71 [==============================] - 443s 6s/step - loss: 0.1644 - accuracy: 0.9475 - val_loss: 0.0155 - val_accuracy: 0.9950\n",
            "Epoch 2/5\n",
            "71/71 [==============================] - 433s 6s/step - loss: 0.0586 - accuracy: 0.9872 - val_loss: 0.0132 - val_accuracy: 0.9950\n",
            "Epoch 3/5\n",
            "71/71 [==============================] - 433s 6s/step - loss: 0.0104 - accuracy: 0.9974 - val_loss: 0.0123 - val_accuracy: 0.9975\n",
            "Epoch 4/5\n",
            "71/71 [==============================] - 427s 6s/step - loss: 0.0078 - accuracy: 0.9987 - val_loss: 0.0123 - val_accuracy: 0.9962\n",
            "Epoch 5/5\n",
            "71/71 [==============================] - 426s 6s/step - loss: 3.1998e-04 - accuracy: 1.0000 - val_loss: 0.0161 - val_accuracy: 0.9987\n"
          ]
        }
      ]
    },
    {
      "cell_type": "code",
      "source": [
        "model.save ( '/content/drive/My Drive/db/6C/Bipartite_Adam_pln_pp/model1/6C_Baseline/' )\n",
        "# import tensorflow as tf\n",
        "# model1 =tf.keras.models.load_model('/content/drive/My Drive/db/6C/Bipartite_Adam_pln_pp/model1/' )"
      ],
      "metadata": {
        "colab": {
          "base_uri": "https://localhost:8080/"
        },
        "id": "wSO5LYgiFXbX",
        "outputId": "fe3e3cc1-fbda-4723-80da-caab055feb04"
      },
      "execution_count": 29,
      "outputs": [
        {
          "output_type": "stream",
          "name": "stdout",
          "text": [
            "INFO:tensorflow:Assets written to: /content/drive/My Drive/db/6C/Bipartite_Adam_pln_pp/model1/6C_Baseline/assets\n"
          ]
        }
      ]
    },
    {
      "cell_type": "code",
      "source": [
        "\n",
        "\n",
        "import tensorflow as tf\n",
        "from keras.preprocessing.image import ImageDataGenerator\n",
        "#test_datagen = tf.keras.preprocessing.image.ImageDataGenerator(preprocessing_function=tf.keras.applications.resnet50.preprocess_input)\n",
        "\n"
      ],
      "metadata": {
        "id": "_gwarhnYlj3-"
      },
      "execution_count": 17,
      "outputs": []
    },
    {
      "cell_type": "code",
      "source": [
        "test_datagen = ImageDataGenerator()\n",
        "\n",
        "test_generator = test_datagen.flow_from_directory(\n",
        "        '/content/drive/MyDrive/Colab Notebooks/Train Data For selected 2 project/natural_images/N/Test',\n",
        "        classes=['airplane','car','motorbike','person','flower', 'dog'], \n",
        "        target_size=(374, 374),#The target_size is the size of your input images,every image will be resized to this size\n",
        "        batch_size=32,\n",
        "        class_mode='categorical')\n",
        "\n",
        "history=model.evaluate(\n",
        "test_generator    \n",
        ")\n",
        "\n",
        "print(history)"
      ],
      "metadata": {
        "colab": {
          "base_uri": "https://localhost:8080/"
        },
        "id": "52HcfYJjlNkp",
        "outputId": "62232215-cd45-4507-8dfc-bb06efd0865c"
      },
      "execution_count": 19,
      "outputs": [
        {
          "output_type": "stream",
          "name": "stdout",
          "text": [
            "Found 977 images belonging to 6 classes.\n",
            "31/31 [==============================] - 382s 12s/step - loss: 0.2229 - accuracy: 0.9539\n",
            "[0.22293275594711304, 0.9539406299591064]\n"
          ]
        }
      ]
    }
  ]
}