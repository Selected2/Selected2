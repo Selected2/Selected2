{
  "nbformat": 4,
  "nbformat_minor": 0,
  "metadata": {
    "colab": {
      "name": "the6Classproposed1.ipynb",
      "provenance": [],
      "collapsed_sections": []
    },
    "kernelspec": {
      "name": "python3",
      "display_name": "Python 3"
    },
    "language_info": {
      "name": "python"
    },
    "accelerator": "GPU"
  },
  "cells": [
    {
      "cell_type": "markdown",
      "source": [
        "#6 class proposed 1"
      ],
      "metadata": {
        "id": "SYzv9WThHuAE"
      }
    },
    {
      "cell_type": "code",
      "execution_count": null,
      "metadata": {
        "colab": {
          "base_uri": "https://localhost:8080/"
        },
        "id": "4xbyzq0J2Bqb",
        "outputId": "a35847fd-5f49-4bf6-b47c-c4655d502ef1"
      },
      "outputs": [
        {
          "output_type": "stream",
          "name": "stdout",
          "text": [
            "Mounted at /content/drive\n"
          ]
        }
      ],
      "source": [
        "from google.colab import drive\n",
        "drive.mount('/content/drive')"
      ]
    },
    {
      "cell_type": "code",
      "source": [
        "img_rows, img_cols = 224, 224 #number of rows and columns to convert the images to\n",
        "input_shape = (img_rows, img_cols, 3)#format to store the images (rows, columns,channels) called channels last"
      ],
      "metadata": {
        "id": "0G5Ei9TI61jz"
      },
      "execution_count": null,
      "outputs": []
    },
    {
      "cell_type": "code",
      "source": [
        "\n",
        "import tensorflow as tf\n",
        "from keras.preprocessing.image import ImageDataGenerator\n",
        "\n",
        "train_datagen = ImageDataGenerator()  \n",
        "valid_datagen = ImageDataGenerator()\n",
        "\n",
        "train_generator1 = train_datagen.flow_from_directory(\n",
        "        '/content/drive/MyDrive/Colab Notebooks/Train Data For selected 2 project/natural_images/N/Train',\n",
        "        classes = ['motorbike&airplan','flower&car','person&dog'],\n",
        "        target_size=(img_rows, img_cols),batch_size=32,class_mode='categorical')\n",
        "\n",
        "valid_generator1 = valid_datagen.flow_from_directory(\n",
        "        '/content/drive/MyDrive/Colab Notebooks/Train Data For selected 2 project/natural_images/N/Validate',\n",
        "        classes = ['motorbike&airplan','flower&car','person&dog'],\n",
        "        target_size=(img_rows, img_cols),batch_size=32,class_mode='categorical')\n",
        "\n",
        "train_generator21 = train_datagen.flow_from_directory(\n",
        "       '/content/drive/MyDrive/Colab Notebooks/Train Data For selected 2 project/natural_images/N/Train',\n",
        "        classes = ['motorbike','airplane'],\n",
        "        target_size=(img_rows, img_cols),batch_size=32,class_mode='binary')\n",
        "\n",
        "valid_generator21 = valid_datagen.flow_from_directory(\n",
        "        '/content/drive/MyDrive/Colab Notebooks/Train Data For selected 2 project/natural_images/N/Validate',\n",
        "        classes = ['motorbike','airplane'], \n",
        "        target_size=(img_rows, img_cols),batch_size=32,class_mode='binary')\n",
        "\n",
        "train_generator22 = train_datagen.flow_from_directory(\n",
        "        '/content/drive/MyDrive/Colab Notebooks/Train Data For selected 2 project/natural_images/N/Train',\n",
        "        classes = ['flower','car'],\n",
        "        target_size=(img_rows, img_cols),batch_size=32,class_mode='binary')\n",
        "\n",
        "valid_generator22 = valid_datagen.flow_from_directory(\n",
        "        '/content/drive/MyDrive/Colab Notebooks/Train Data For selected 2 project/natural_images/N/Validate',\n",
        "        classes = ['flower','car'],\n",
        "        target_size=(img_rows, img_cols),batch_size=32,class_mode='binary')\n",
        "\n",
        "train_generator23 = train_datagen.flow_from_directory(\n",
        "        '/content/drive/MyDrive/Colab Notebooks/Train Data For selected 2 project/natural_images/N/Train',\n",
        "        classes = ['person','dog'],\n",
        "        target_size=(img_rows, img_cols),batch_size=16,class_mode='binary')\n",
        "\n",
        "valid_generator23 = valid_datagen.flow_from_directory(\n",
        "        '/content/drive/MyDrive/Colab Notebooks/Train Data For selected 2 project/natural_images/N/Validate',\n",
        "        classes = ['person','dog'],\n",
        "        target_size=(img_rows, img_cols),batch_size=16,class_mode='binary')"
      ],
      "metadata": {
        "colab": {
          "base_uri": "https://localhost:8080/"
        },
        "id": "PpPvtWIv6_1A",
        "outputId": "3e78d4fd-1b11-41a1-c92d-929607d839eb"
      },
      "execution_count": null,
      "outputs": [
        {
          "output_type": "stream",
          "name": "stdout",
          "text": [
            "Found 2298 images belonging to 3 classes.\n",
            "Found 1063 images belonging to 3 classes.\n",
            "Found 766 images belonging to 2 classes.\n",
            "Found 351 images belonging to 2 classes.\n",
            "Found 766 images belonging to 2 classes.\n",
            "Found 356 images belonging to 2 classes.\n",
            "Found 766 images belonging to 2 classes.\n",
            "Found 356 images belonging to 2 classes.\n"
          ]
        }
      ]
    },
    {
      "cell_type": "code",
      "source": [
        "base_model1 = tf.keras.applications.ResNet50(weights='imagenet', include_top = False)\n",
        "base_model21 = tf.keras.applications.ResNet50(weights='imagenet', include_top = False)\n",
        "base_model22 = tf.keras.applications.ResNet50(weights='imagenet', include_top = False)\n",
        "base_model23 = tf.keras.applications.ResNet50(weights='imagenet', include_top = False)"
      ],
      "metadata": {
        "id": "Cb4VM-l27Ajr",
        "colab": {
          "base_uri": "https://localhost:8080/"
        },
        "outputId": "ad4fb58d-4f50-4cc1-bb94-950227efbe30"
      },
      "execution_count": null,
      "outputs": [
        {
          "output_type": "stream",
          "name": "stdout",
          "text": [
            "Downloading data from https://storage.googleapis.com/tensorflow/keras-applications/resnet/resnet50_weights_tf_dim_ordering_tf_kernels_notop.h5\n",
            "94773248/94765736 [==============================] - 0s 0us/step\n",
            "94781440/94765736 [==============================] - 0s 0us/step\n"
          ]
        }
      ]
    },
    {
      "cell_type": "code",
      "source": [
        "for layer in base_model1.layers:   layer.trainable = False\n",
        "for layer in base_model21.layers:   layer.trainable = False\n",
        "for layer in base_model22.layers:   layer.trainable = False\n",
        "for layer in base_model23.layers:   layer.trainable = False"
      ],
      "metadata": {
        "id": "1-C57mFk7DAU"
      },
      "execution_count": null,
      "outputs": []
    },
    {
      "cell_type": "code",
      "source": [
        "x = base_model1.output\n",
        "x = tf.keras.layers.GlobalAveragePooling2D()(x)\n",
        "x = tf.keras.layers.Dense(1024, activation='relu')(x)\n",
        "x = tf.keras.layers.Dense(1024, activation='relu')(x)\n",
        "x = tf.keras.layers.Dense(1024, activation='relu')(x)\n",
        "x = tf.keras.layers.Dense(512, activation='relu')(x)\n",
        "preds = tf.keras.layers.Dense(3, activation ='softmax')(x)\n",
        "model1 = tf.keras.models.Model(inputs=base_model1.input, outputs=preds)\n",
        "\n",
        "x = base_model21.output\n",
        "x = tf.keras.layers.GlobalAveragePooling2D()(x)\n",
        "x = tf.keras.layers.Dense(1024, activation='relu')(x)\n",
        "x = tf.keras.layers.Dense(1024, activation='relu')(x)\n",
        "x = tf.keras.layers.Dense(1024, activation='relu')(x)\n",
        "x = tf.keras.layers.Dense(512, activation='relu')(x)\n",
        "preds = tf.keras.layers.Dense(1, activation ='sigmoid')(x)\n",
        "model21 = tf.keras.models.Model(inputs=base_model21.input, outputs=preds)\n",
        "\n",
        "\n",
        "x = base_model22.output\n",
        "x = tf.keras.layers.GlobalAveragePooling2D()(x)\n",
        "x = tf.keras.layers.Dense(1024, activation='relu')(x)\n",
        "x = tf.keras.layers.Dense(1024, activation='relu')(x)\n",
        "x = tf.keras.layers.Dense(1024, activation='relu')(x)\n",
        "x = tf.keras.layers.Dense(512, activation='relu')(x)\n",
        "preds = tf.keras.layers.Dense(1, activation ='sigmoid')(x)\n",
        "model22 = tf.keras.models.Model(inputs=base_model22.input, outputs=preds)\n",
        "\n",
        "x = base_model23.output\n",
        "x = tf.keras.layers.GlobalAveragePooling2D()(x)\n",
        "x = tf.keras.layers.Dense(1024, activation='relu')(x)\n",
        "x = tf.keras.layers.Dense(1024, activation='relu')(x)\n",
        "x = tf.keras.layers.Dense(1024, activation='relu')(x)\n",
        "x = tf.keras.layers.Dense(512, activation='relu')(x)\n",
        "preds = tf.keras.layers.Dense(1, activation ='sigmoid')(x)   # the only diff\n",
        "model23 = tf.keras.models.Model(inputs=base_model23.input, outputs=preds)"
      ],
      "metadata": {
        "id": "QozywFKS7Fs7"
      },
      "execution_count": null,
      "outputs": []
    },
    {
      "cell_type": "code",
      "source": [
        "model1.compile(optimizer='Adam', loss='categorical_crossentropy', metrics=['accuracy'])\n",
        "model21.compile(optimizer='Adam', loss='binary_crossentropy', metrics=['accuracy'])\n",
        "model22.compile(optimizer='Adam', loss='binary_crossentropy', metrics=['accuracy'])\n",
        "model23.compile(optimizer='Adam', loss='binary_crossentropy', metrics=['accuracy'])"
      ],
      "metadata": {
        "id": "99WfmJ2B7Hhd"
      },
      "execution_count": null,
      "outputs": []
    },
    {
      "cell_type": "code",
      "source": [
        "cb1= tf.keras.callbacks.EarlyStopping(\n",
        "    monitor='val_loss', min_delta=0, patience=7, verbose=1, mode='auto',\n",
        "    baseline=None, restore_best_weights=True\n",
        ")\n",
        "\n",
        "cb2= tf.keras.callbacks.EarlyStopping(\n",
        "    monitor='val_loss', min_delta=0, patience=7, verbose=1, mode='auto',\n",
        "    baseline=None, restore_best_weights=True\n",
        ")\n",
        "\n",
        "cb3= tf.keras.callbacks.EarlyStopping(\n",
        "    monitor='val_loss', min_delta=0, patience=7, verbose=1, mode='auto',\n",
        "    baseline=None, restore_best_weights=True\n",
        ")\n",
        "\n",
        "cb4= tf.keras.callbacks.EarlyStopping(\n",
        "    monitor='val_loss', min_delta=0, patience=7, verbose=1, mode='auto',\n",
        "    baseline=None, restore_best_weights=True\n",
        ")\n"
      ],
      "metadata": {
        "id": "hd_J1Fo_8p1P"
      },
      "execution_count": null,
      "outputs": []
    },
    {
      "cell_type": "code",
      "source": [
        "history = model1.fit(\n",
        "      train_generator1,\n",
        "      steps_per_epoch=train_generator1.n//train_generator1.batch_size,\n",
        "      epochs=25,\n",
        "      validation_data=valid_generator1,callbacks=[cb1],\n",
        "      validation_steps=25)\n",
        "\n",
        "history = model21.fit(\n",
        "      train_generator21,\n",
        "      steps_per_epoch=train_generator21.n//train_generator21.batch_size,\n",
        "      epochs=25,\n",
        "      validation_data=valid_generator21,callbacks=[cb2],\n",
        "      validation_steps=10)\n",
        "\n",
        "history = model22.fit(\n",
        "      train_generator22,\n",
        "      steps_per_epoch=train_generator22.n//train_generator22.batch_size,\n",
        "      epochs=25,\n",
        "      validation_data=valid_generator22,callbacks=[cb3],\n",
        "      validation_steps=10)\n",
        "\n",
        "history = model23.fit(\n",
        "      train_generator23,\n",
        "      steps_per_epoch=train_generator23.n//train_generator23.batch_size,\n",
        "      epochs=25,\n",
        "      validation_data=valid_generator23,callbacks=[cb4],\n",
        "      validation_steps=10)"
      ],
      "metadata": {
        "colab": {
          "base_uri": "https://localhost:8080/"
        },
        "id": "4XDZhxqk8tuR",
        "outputId": "f2c5e156-8689-4b1d-c669-3049699ec8d0"
      },
      "execution_count": null,
      "outputs": [
        {
          "output_type": "stream",
          "name": "stdout",
          "text": [
            "Epoch 1/25\n",
            "71/71 [==============================] - 651s 9s/step - loss: 0.2017 - accuracy: 0.9519 - val_loss: 0.0041 - val_accuracy: 1.0000\n",
            "Epoch 2/25\n",
            "71/71 [==============================] - 52s 746ms/step - loss: 0.0152 - accuracy: 0.9974 - val_loss: 0.0018 - val_accuracy: 1.0000\n",
            "Epoch 3/25\n",
            "71/71 [==============================] - 22s 309ms/step - loss: 0.0125 - accuracy: 0.9965 - val_loss: 0.0016 - val_accuracy: 0.9987\n",
            "Epoch 4/25\n",
            "71/71 [==============================] - 15s 206ms/step - loss: 0.0112 - accuracy: 0.9969 - val_loss: 0.0118 - val_accuracy: 0.9975\n",
            "Epoch 5/25\n",
            "71/71 [==============================] - 12s 174ms/step - loss: 0.0046 - accuracy: 0.9987 - val_loss: 0.0040 - val_accuracy: 0.9987\n",
            "Epoch 6/25\n",
            "71/71 [==============================] - 13s 180ms/step - loss: 1.5098e-05 - accuracy: 1.0000 - val_loss: 2.1854e-04 - val_accuracy: 1.0000\n",
            "Epoch 7/25\n",
            "71/71 [==============================] - 13s 186ms/step - loss: 5.5106e-06 - accuracy: 1.0000 - val_loss: 0.0045 - val_accuracy: 0.9987\n",
            "Epoch 8/25\n",
            "71/71 [==============================] - 13s 180ms/step - loss: 3.1120e-06 - accuracy: 1.0000 - val_loss: 8.5255e-05 - val_accuracy: 1.0000\n",
            "Epoch 9/25\n",
            "71/71 [==============================] - 12s 173ms/step - loss: 1.9345e-06 - accuracy: 1.0000 - val_loss: 0.0051 - val_accuracy: 0.9987\n",
            "Epoch 10/25\n",
            "71/71 [==============================] - 13s 182ms/step - loss: 1.2971e-06 - accuracy: 1.0000 - val_loss: 0.0053 - val_accuracy: 0.9987\n",
            "Epoch 11/25\n",
            "71/71 [==============================] - 13s 186ms/step - loss: 9.0541e-07 - accuracy: 1.0000 - val_loss: 0.0055 - val_accuracy: 0.9987\n",
            "Epoch 12/25\n",
            "71/71 [==============================] - 12s 175ms/step - loss: 6.7586e-07 - accuracy: 1.0000 - val_loss: 0.0057 - val_accuracy: 0.9987\n",
            "Epoch 13/25\n",
            "71/71 [==============================] - 13s 176ms/step - loss: 5.0559e-07 - accuracy: 1.0000 - val_loss: 0.0058 - val_accuracy: 0.9987\n",
            "Epoch 14/25\n",
            "71/71 [==============================] - 14s 190ms/step - loss: 3.9828e-07 - accuracy: 1.0000 - val_loss: 0.0060 - val_accuracy: 0.9987\n",
            "Epoch 15/25\n",
            "71/71 [==============================] - 13s 184ms/step - loss: 3.1906e-07 - accuracy: 1.0000 - val_loss: 2.8062e-05 - val_accuracy: 1.0000\n",
            "Epoch 16/25\n",
            "71/71 [==============================] - 12s 173ms/step - loss: 2.6014e-07 - accuracy: 1.0000 - val_loss: 0.0063 - val_accuracy: 0.9987\n",
            "Epoch 17/25\n",
            "71/71 [==============================] - 13s 185ms/step - loss: 2.1474e-07 - accuracy: 1.0000 - val_loss: 0.0064 - val_accuracy: 0.9987\n",
            "Epoch 18/25\n",
            "71/71 [==============================] - 13s 185ms/step - loss: 1.5519e-07 - accuracy: 1.0000 - val_loss: 0.0065 - val_accuracy: 0.9987\n",
            "Epoch 19/25\n",
            "71/71 [==============================] - 12s 172ms/step - loss: 1.5803e-07 - accuracy: 1.0000 - val_loss: 0.0066 - val_accuracy: 0.9987\n",
            "Epoch 20/25\n",
            "71/71 [==============================] - 12s 175ms/step - loss: 1.3457e-07 - accuracy: 1.0000 - val_loss: 1.9131e-05 - val_accuracy: 1.0000\n",
            "Epoch 21/25\n",
            "71/71 [==============================] - 13s 187ms/step - loss: 1.1626e-07 - accuracy: 1.0000 - val_loss: 7.7686e-06 - val_accuracy: 1.0000\n",
            "Epoch 22/25\n",
            "71/71 [==============================] - 13s 180ms/step - loss: 1.0111e-07 - accuracy: 1.0000 - val_loss: 7.7473e-06 - val_accuracy: 1.0000\n",
            "Epoch 23/25\n",
            "71/71 [==============================] - 12s 174ms/step - loss: 8.9012e-08 - accuracy: 1.0000 - val_loss: 0.0070 - val_accuracy: 0.9987\n",
            "Epoch 24/25\n",
            "71/71 [==============================] - 13s 182ms/step - loss: 7.8543e-08 - accuracy: 1.0000 - val_loss: 0.0071 - val_accuracy: 0.9987\n",
            "Epoch 25/25\n",
            "71/71 [==============================] - 13s 186ms/step - loss: 6.9968e-08 - accuracy: 1.0000 - val_loss: 0.0072 - val_accuracy: 0.9987\n",
            "Epoch 1/25\n",
            "23/23 [==============================] - 183s 8s/step - loss: 0.5574 - accuracy: 0.9114 - val_loss: 5.3753e-05 - val_accuracy: 1.0000\n",
            "Epoch 2/25\n",
            "23/23 [==============================] - 4s 163ms/step - loss: 0.0211 - accuracy: 0.9986 - val_loss: 0.0079 - val_accuracy: 0.9969\n",
            "Epoch 3/25\n",
            "23/23 [==============================] - 4s 165ms/step - loss: 0.0596 - accuracy: 0.9891 - val_loss: 0.0258 - val_accuracy: 0.9906\n",
            "Epoch 4/25\n",
            "23/23 [==============================] - 4s 174ms/step - loss: 0.0033 - accuracy: 0.9986 - val_loss: 1.5167e-05 - val_accuracy: 1.0000\n",
            "Epoch 5/25\n",
            "23/23 [==============================] - 4s 175ms/step - loss: 5.7140e-06 - accuracy: 1.0000 - val_loss: 4.3378e-07 - val_accuracy: 1.0000\n",
            "Epoch 6/25\n",
            "23/23 [==============================] - 4s 176ms/step - loss: 4.2868e-07 - accuracy: 1.0000 - val_loss: 1.8423e-07 - val_accuracy: 1.0000\n",
            "Epoch 7/25\n",
            "23/23 [==============================] - 4s 178ms/step - loss: 2.2577e-07 - accuracy: 1.0000 - val_loss: 1.3082e-07 - val_accuracy: 1.0000\n",
            "Epoch 8/25\n",
            "23/23 [==============================] - 4s 176ms/step - loss: 1.6511e-07 - accuracy: 1.0000 - val_loss: 7.9579e-08 - val_accuracy: 1.0000\n",
            "Epoch 9/25\n",
            "23/23 [==============================] - 4s 176ms/step - loss: 1.3225e-07 - accuracy: 1.0000 - val_loss: 3.9694e-08 - val_accuracy: 1.0000\n",
            "Epoch 10/25\n",
            "23/23 [==============================] - 4s 167ms/step - loss: 1.0386e-07 - accuracy: 1.0000 - val_loss: 6.7181e-08 - val_accuracy: 1.0000\n",
            "Epoch 11/25\n",
            "23/23 [==============================] - 4s 165ms/step - loss: 8.1299e-08 - accuracy: 1.0000 - val_loss: 5.4603e-08 - val_accuracy: 1.0000\n",
            "Epoch 12/25\n",
            "23/23 [==============================] - 4s 166ms/step - loss: 6.6324e-08 - accuracy: 1.0000 - val_loss: 4.7025e-08 - val_accuracy: 1.0000\n",
            "Epoch 13/25\n",
            "23/23 [==============================] - 4s 171ms/step - loss: 5.4914e-08 - accuracy: 1.0000 - val_loss: 3.8016e-08 - val_accuracy: 1.0000\n",
            "Epoch 14/25\n",
            "23/23 [==============================] - 4s 170ms/step - loss: 2.2200e-08 - accuracy: 1.0000 - val_loss: 3.6974e-08 - val_accuracy: 1.0000\n",
            "Epoch 15/25\n",
            "23/23 [==============================] - 4s 170ms/step - loss: 4.1362e-08 - accuracy: 1.0000 - val_loss: 3.5299e-08 - val_accuracy: 1.0000\n",
            "Epoch 16/25\n",
            "23/23 [==============================] - 4s 171ms/step - loss: 3.7973e-08 - accuracy: 1.0000 - val_loss: 2.7863e-08 - val_accuracy: 1.0000\n",
            "Epoch 17/25\n",
            "23/23 [==============================] - 4s 169ms/step - loss: 3.1240e-08 - accuracy: 1.0000 - val_loss: 2.4942e-08 - val_accuracy: 1.0000\n",
            "Epoch 18/25\n",
            "23/23 [==============================] - 4s 174ms/step - loss: 2.7553e-08 - accuracy: 1.0000 - val_loss: 2.1571e-08 - val_accuracy: 1.0000\n",
            "Epoch 19/25\n",
            "23/23 [==============================] - 4s 174ms/step - loss: 2.4311e-08 - accuracy: 1.0000 - val_loss: 1.8995e-08 - val_accuracy: 1.0000\n",
            "Epoch 20/25\n",
            "23/23 [==============================] - 4s 173ms/step - loss: 2.1683e-08 - accuracy: 1.0000 - val_loss: 1.6884e-08 - val_accuracy: 1.0000\n",
            "Epoch 21/25\n",
            "23/23 [==============================] - 4s 173ms/step - loss: 1.9240e-08 - accuracy: 1.0000 - val_loss: 1.5611e-08 - val_accuracy: 1.0000\n",
            "Epoch 22/25\n",
            "23/23 [==============================] - 4s 175ms/step - loss: 1.7278e-08 - accuracy: 1.0000 - val_loss: 1.6038e-09 - val_accuracy: 1.0000\n",
            "Epoch 23/25\n",
            "23/23 [==============================] - 4s 168ms/step - loss: 6.8824e-09 - accuracy: 1.0000 - val_loss: 1.3620e-08 - val_accuracy: 1.0000\n",
            "Epoch 24/25\n",
            "23/23 [==============================] - 4s 165ms/step - loss: 1.5042e-08 - accuracy: 1.0000 - val_loss: 1.2418e-08 - val_accuracy: 1.0000\n",
            "Epoch 25/25\n",
            "23/23 [==============================] - 4s 165ms/step - loss: 1.3629e-08 - accuracy: 1.0000 - val_loss: 4.7391e-09 - val_accuracy: 1.0000\n",
            "Epoch 1/25\n",
            "23/23 [==============================] - 187s 8s/step - loss: 0.0989 - accuracy: 0.9768 - val_loss: 6.7223e-15 - val_accuracy: 1.0000\n",
            "Epoch 2/25\n",
            "23/23 [==============================] - 6s 264ms/step - loss: 6.7178e-13 - accuracy: 1.0000 - val_loss: 1.4765e-12 - val_accuracy: 1.0000\n",
            "Epoch 3/25\n",
            "23/23 [==============================] - 5s 232ms/step - loss: 2.1190e-10 - accuracy: 1.0000 - val_loss: 0.0108 - val_accuracy: 0.9969\n",
            "Epoch 4/25\n",
            "23/23 [==============================] - 5s 214ms/step - loss: 1.1212e-09 - accuracy: 1.0000 - val_loss: 0.0122 - val_accuracy: 0.9969\n",
            "Epoch 5/25\n",
            "23/23 [==============================] - 5s 214ms/step - loss: 1.1857e-09 - accuracy: 1.0000 - val_loss: 7.4832e-12 - val_accuracy: 1.0000\n",
            "Epoch 6/25\n",
            "23/23 [==============================] - 5s 215ms/step - loss: 1.1826e-09 - accuracy: 1.0000 - val_loss: 0.0123 - val_accuracy: 0.9969\n",
            "Epoch 7/25\n",
            "23/23 [==============================] - 5s 226ms/step - loss: 1.1755e-09 - accuracy: 1.0000 - val_loss: 0.0123 - val_accuracy: 0.9969\n",
            "Epoch 8/25\n",
            "23/23 [==============================] - ETA: 0s - loss: 1.1674e-09 - accuracy: 1.0000Restoring model weights from the end of the best epoch: 1.\n",
            "23/23 [==============================] - 5s 227ms/step - loss: 1.1674e-09 - accuracy: 1.0000 - val_loss: 7.3542e-12 - val_accuracy: 1.0000\n",
            "Epoch 8: early stopping\n",
            "Epoch 1/25\n",
            "47/47 [==============================] - 175s 4s/step - loss: 0.1262 - accuracy: 0.9627 - val_loss: 2.6522e-08 - val_accuracy: 1.0000\n",
            "Epoch 2/25\n",
            "47/47 [==============================] - 18s 394ms/step - loss: 2.3312e-07 - accuracy: 1.0000 - val_loss: 5.1712e-05 - val_accuracy: 1.0000\n",
            "Epoch 3/25\n",
            "47/47 [==============================] - 13s 282ms/step - loss: 1.3573e-07 - accuracy: 1.0000 - val_loss: 1.5764e-14 - val_accuracy: 1.0000\n",
            "Epoch 4/25\n",
            "47/47 [==============================] - 7s 157ms/step - loss: 6.8341e-08 - accuracy: 1.0000 - val_loss: 2.7384e-05 - val_accuracy: 1.0000\n",
            "Epoch 5/25\n",
            "47/47 [==============================] - 8s 171ms/step - loss: 3.7015e-08 - accuracy: 1.0000 - val_loss: 1.9431e-05 - val_accuracy: 1.0000\n",
            "Epoch 6/25\n",
            "47/47 [==============================] - 6s 122ms/step - loss: 2.1492e-08 - accuracy: 1.0000 - val_loss: 1.5282e-05 - val_accuracy: 1.0000\n",
            "Epoch 7/25\n",
            "47/47 [==============================] - 5s 105ms/step - loss: 1.3740e-08 - accuracy: 1.0000 - val_loss: 1.5918e-10 - val_accuracy: 1.0000\n",
            "Epoch 8/25\n",
            "47/47 [==============================] - 4s 92ms/step - loss: 9.5801e-09 - accuracy: 1.0000 - val_loss: 1.3139e-10 - val_accuracy: 1.0000\n",
            "Epoch 9/25\n",
            "47/47 [==============================] - 4s 89ms/step - loss: 7.1890e-09 - accuracy: 1.0000 - val_loss: 1.2869e-10 - val_accuracy: 1.0000\n",
            "Epoch 10/25\n",
            "47/47 [==============================] - ETA: 0s - loss: 5.5515e-09 - accuracy: 1.0000Restoring model weights from the end of the best epoch: 3.\n",
            "47/47 [==============================] - 4s 92ms/step - loss: 5.5515e-09 - accuracy: 1.0000 - val_loss: 8.8189e-06 - val_accuracy: 1.0000\n",
            "Epoch 10: early stopping\n"
          ]
        }
      ]
    },
    {
      "cell_type": "code",
      "source": [
        "# model1.save ( '/content/drive/My Drive/db/6C/Bipartite_Adam_pln_pp/model1/' )\n",
        "# model21.save( '/content/drive/My Drive/db/6C/Bipartite_Adam_pln_pp/model21/')\n",
        "# model22.save( '/content/drive/My Drive/db/6C/Bipartite_Adam_pln_pp/model22/')\n",
        "# model23.save( '/content/drive/My Drive/db/6C/Bipartite_Adam_pln_pp/model23/')\n",
        "\n",
        "\"\"\"\n",
        "\n",
        "\"\"\"\n",
        "\n",
        "import tensorflow as tf\n",
        "model1 =tf.keras.models.load_model('/content/drive/My Drive/db/6C/Bipartite_Adam_pln_pp/model1/' )\n",
        "model21=tf.keras.models.load_model('/content/drive/My Drive/db/6C/Bipartite_Adam_pln_pp/model21/')\n",
        "model22=tf.keras.models.load_model('/content/drive/My Drive/db/6C/Bipartite_Adam_pln_pp/model22/')\n",
        "model23=tf.keras.models.load_model('/content/drive/My Drive/db/6C/Bipartite_Adam_pln_pp/model23/')\n"
      ],
      "metadata": {
        "id": "Kid9nhG98y-x"
      },
      "execution_count": null,
      "outputs": []
    },
    {
      "cell_type": "code",
      "source": [
        "import matplotlib.pyplot as plt\n",
        "\n",
        "plt.figure(figsize = (8,8))\n",
        "plt.plot(history.history['accuracy'], label='training accuracy')\n",
        "plt.plot(history.history['val_accuracy'], label='val accuracy')\n",
        "plt.plot(history.history['loss'], label='training loss')\n",
        "plt.plot(history.history['val_loss'], label='val loss')\n",
        "plt.title('Loss/accuracy')\n",
        "plt.xlabel('epochs')\n",
        "plt.ylabel('loss')\n",
        "plt.legend()\n",
        "plt.show()"
      ],
      "metadata": {
        "colab": {
          "base_uri": "https://localhost:8080/",
          "height": 513
        },
        "id": "_3suQyk5DIUl",
        "outputId": "6415825d-28db-487c-c7bd-537cee0454c6"
      },
      "execution_count": null,
      "outputs": [
        {
          "output_type": "display_data",
          "data": {
            "text/plain": [
              "<Figure size 576x576 with 1 Axes>"
            ],
            "image/png": "[encoded data removed]"
          },
          "metadata": {
            "needs_background": "light"
          }
        }
      ]
    },
    {
      "cell_type": "code",
      "source": [
        "import numpy as np\n",
        "from google.colab import files\n",
        "from keras.preprocessing import image\n",
        "import cv2\n",
        "import os\n",
        "import glob"
      ],
      "metadata": {
        "id": "R5Vnzf3I802t"
      },
      "execution_count": null,
      "outputs": []
    },
    {
      "cell_type": "code",
      "source": [
        "ct_person=0;ct_dog=0;ct_motorbike=0; ct_airplane=0; ct_car=0; ct_flower=0;"
      ],
      "metadata": {
        "id": "XfKlpx7P85kY"
      },
      "execution_count": null,
      "outputs": []
    },
    {
      "cell_type": "code",
      "source": [
        "img_dir = '/content/drive/MyDrive/Colab Notebooks/Train Data For selected 2 project/natural_images/N/Test/motorbike/'\n",
        "data_path = os. path. join(img_dir,'*g')\n",
        "files = glob. glob(data_path)\n",
        "data = []\n",
        "for f1 in files:\n",
        "  img = image.load_img(f1, target_size=(324, 324))\n",
        "  x = image.img_to_array(img)\n",
        "  x = np.expand_dims(x, axis=0)  # >>>>>>>>>>>>>>>>>>>>>>>>>>>>>>>>>>>>>>>>>>>>>>>\n",
        "  images = np.vstack([x])\n",
        "  classesb1 = model1.predict(images, batch_size=10)\n",
        "  classesb21 = model21.predict(images, batch_size=10)\n",
        "  #classesb22 = model22.predict(images, batch_size=10)\n",
        "  # print('bikes:',classesb1[0][0],classesb21[0])\n",
        "  if((classesb1[0][0] > .5) and (classesb21[0] < .5)):    ct_motorbike=ct_motorbike+1\n",
        "print(ct_motorbike)"
      ],
      "metadata": {
        "id": "EMeniBBD87oN",
        "colab": {
          "base_uri": "https://localhost:8080/"
        },
        "outputId": "87bbee4d-462f-44f5-8544-cd88625e6a12"
      },
      "execution_count": null,
      "outputs": [
        {
          "output_type": "stream",
          "name": "stdout",
          "text": [
            "165\n"
          ]
        }
      ]
    },
    {
      "cell_type": "code",
      "source": [
        "print('./')\n",
        "os.chdir('/content/')\n",
        "import os\n",
        "img_dir = '/content/drive/MyDrive/Colab Notebooks/Train Data For selected 2 project/natural_images/N/Test/airplane/' # Enter Directory of all images.\n",
        "data_path = os. path. join(img_dir,'*g')\n",
        "files = glob. glob(data_path)\n",
        "data = []\n",
        "data_path = os. path. join(img_dir,'*g')\n",
        "files = glob. glob(data_path)\n",
        "data = []\n",
        "for f1 in files:\n",
        "  img = image.load_img(f1, target_size=(324, 324))\n",
        "  x = image.img_to_array(img)\n",
        "  x = np.expand_dims(x, axis=0)\n",
        "  images = np.vstack([x])\n",
        "  classess1 = model1.predict(images, batch_size=10)\n",
        "  classess21 = model21.predict(images, batch_size=10)\n",
        "  #classess22 = model22.predict(images, batch_size=10)\n",
        "  # print('ships:',classess1[0][0],classess21[0])\n",
        "  if((classess1[0][0] > .5) and (classess21[0] > .5)):    ct_airplane=ct_airplane+1\n",
        "print(ct_airplane)"
      ],
      "metadata": {
        "colab": {
          "base_uri": "https://localhost:8080/"
        },
        "id": "N9LYkeUE88jG",
        "outputId": "29549fad-f954-4d80-bc75-5b06f1fa4e36"
      },
      "execution_count": null,
      "outputs": [
        {
          "output_type": "stream",
          "name": "stdout",
          "text": [
            "./\n",
            "166\n"
          ]
        }
      ]
    },
    {
      "cell_type": "code",
      "source": [
        "print('./')\n",
        "os.chdir('/content/')\n",
        "import os\n",
        "img_dir = '/content/drive/MyDrive/Colab Notebooks/Train Data For selected 2 project/natural_images/N/Test/car/' # Enter Directory of all images.\n",
        "data_path = os. path. join(img_dir,'*g')\n",
        "files = glob. glob(data_path)\n",
        "data = []\n",
        "data_path = os. path. join(img_dir,'*g')\n",
        "files = glob. glob(data_path)\n",
        "data = []\n",
        "for f1 in files:\n",
        "  img = image.load_img(f1, target_size=(324, 324))\n",
        "  x = image.img_to_array(img)\n",
        "  x = np.expand_dims(x, axis=0)\n",
        "  images = np.vstack([x])\n",
        "  classest1 = model1.predict(images, batch_size=10)\n",
        "  #classest21 = model21.predict(images, batch_size=10)\n",
        "  classest22 = model22.predict(images, batch_size=10)\n",
        "  # print('tracs:',classest1[0][1],classest22[0])\n",
        "  if((classest1[0][1] > .5) and (classest22[0] > .5)):    ct_car=ct_car+1"
      ],
      "metadata": {
        "colab": {
          "base_uri": "https://localhost:8080/"
        },
        "id": "n-BfaiOr9BS0",
        "outputId": "bda75dd5-54a9-4fb6-ee31-8ce56506d95c"
      },
      "execution_count": null,
      "outputs": [
        {
          "output_type": "stream",
          "name": "stdout",
          "text": [
            "./\n"
          ]
        }
      ]
    },
    {
      "cell_type": "code",
      "source": [
        "print(ct_car)"
      ],
      "metadata": {
        "colab": {
          "base_uri": "https://localhost:8080/"
        },
        "id": "KoDm2Yv5DU_Q",
        "outputId": "3225332d-1bde-4887-efc3-c6f8e69a16a0"
      },
      "execution_count": null,
      "outputs": [
        {
          "output_type": "stream",
          "name": "stdout",
          "text": [
            "164\n"
          ]
        }
      ]
    },
    {
      "cell_type": "code",
      "source": [
        "print('./')\n",
        "os.chdir('/content/')\n",
        "import os\n",
        "img_dir = '/content/drive/MyDrive/Colab Notebooks/Train Data For selected 2 project/natural_images/N/Test/flower/' # Enter Directory of all images.\n",
        "data_path = os. path. join(img_dir,'*g')\n",
        "files = glob. glob(data_path)\n",
        "data = []\n",
        "data_path = os. path. join(img_dir,'*g')\n",
        "files = glob. glob(data_path)\n",
        "data = []\n",
        "for f1 in files:\n",
        "  img = image.load_img(f1, target_size=(324, 324))\n",
        "  x = image.img_to_array(img)\n",
        "  x = np.expand_dims(x, axis=0)\n",
        "  images = np.vstack([x])\n",
        "  classesw1 = model1.predict(images, batch_size=10)\n",
        "  #classesw21 = model21.predict(images, batch_size=10)\n",
        "  classesw22 = model22.predict(images, batch_size=10)\n",
        "  # print('wagons:',classesw1[0][1],classesw22[0])\n",
        "  if((classesw1[0][1] > .5) and (classesw22[0] < .5)):    ct_flower=ct_flower+1\n",
        "print(ct_flower)"
      ],
      "metadata": {
        "colab": {
          "base_uri": "https://localhost:8080/"
        },
        "id": "MtElvknU9FsO",
        "outputId": "9e435a71-04db-49c5-fab8-0324458dfff2"
      },
      "execution_count": null,
      "outputs": [
        {
          "output_type": "stream",
          "name": "stdout",
          "text": [
            "./\n",
            "wagons: 0.9999567 [8.627005e-34]\n",
            "wagons: 0.9953053 [8.6468887e-23]\n",
            "wagons: 0.99999475 [1.3500795e-37]\n",
            "wagons: 0.9999846 [7.924458e-30]\n",
            "wagons: 0.6999797 [1.7306759e-29]\n",
            "wagons: 0.999801 [1.9373548e-30]\n",
            "wagons: 0.9999901 [2.5926018e-33]\n",
            "wagons: 0.9999974 [4.8509772e-33]\n",
            "wagons: 0.9999417 [1.899508e-28]\n",
            "wagons: 0.99997187 [8.742057e-35]\n",
            "wagons: 0.97212344 [2.785618e-18]\n",
            "wagons: 0.9999988 [0.]\n",
            "wagons: 0.9903632 [7.0594985e-27]\n",
            "wagons: 0.9999957 [1.005913e-34]\n",
            "wagons: 0.998315 [4.0653534e-29]\n",
            "wagons: 0.9998889 [1.0956597e-33]\n",
            "wagons: 0.99999034 [1.81868e-36]\n",
            "wagons: 0.9999591 [2.6774108e-33]\n",
            "wagons: 0.2841296 [5.1193768e-17]\n",
            "wagons: 0.99999964 [0.]\n",
            "wagons: 0.9999292 [2.2239325e-25]\n",
            "wagons: 0.99541014 [2.6948612e-18]\n",
            "wagons: 0.99931645 [3.9294333e-24]\n",
            "wagons: 0.9995751 [2.1524449e-17]\n",
            "wagons: 0.99942434 [7.994086e-28]\n",
            "wagons: 0.99702007 [1.698562e-21]\n",
            "wagons: 0.99996626 [0.]\n",
            "wagons: 0.9993229 [6.457309e-35]\n",
            "wagons: 0.99999034 [0.]\n",
            "wagons: 0.9998241 [7.0741876e-35]\n",
            "wagons: 0.9999924 [0.]\n",
            "wagons: 0.9999963 [0.]\n",
            "wagons: 0.99999607 [1.3703866e-32]\n",
            "wagons: 0.99998367 [6.407037e-34]\n",
            "wagons: 0.9984189 [3.8395854e-21]\n",
            "wagons: 0.9999585 [6.6890165e-30]\n",
            "wagons: 0.99997425 [6.314971e-28]\n",
            "wagons: 0.99928516 [9.011883e-29]\n",
            "wagons: 0.99999654 [1.06403655e-36]\n",
            "wagons: 0.9999032 [6.312356e-25]\n",
            "wagons: 0.999995 [0.]\n",
            "wagons: 0.99999774 [0.]\n",
            "wagons: 0.9999858 [1.1562612e-29]\n",
            "wagons: 0.9992716 [4.1067448e-25]\n",
            "wagons: 0.9999863 [0.]\n",
            "wagons: 0.9999918 [2.2311144e-31]\n",
            "wagons: 0.99994266 [5.288731e-27]\n",
            "wagons: 0.99920243 [1.9865594e-17]\n",
            "wagons: 0.9999968 [1.8291224e-37]\n",
            "wagons: 0.9997676 [1.5074231e-35]\n",
            "wagons: 0.96939474 [6.3521345e-34]\n",
            "wagons: 0.99798405 [4.238464e-33]\n",
            "wagons: 0.99998856 [3.6738345e-36]\n",
            "wagons: 0.97967565 [9.223712e-25]\n",
            "wagons: 0.99859875 [4.398864e-22]\n",
            "wagons: 0.9999906 [4.1593572e-32]\n",
            "wagons: 0.999985 [1.3499086e-31]\n",
            "wagons: 0.99999654 [2.505851e-38]\n",
            "wagons: 0.99999106 [5.8172097e-33]\n",
            "wagons: 0.9999964 [2.9184437e-34]\n",
            "wagons: 0.9999987 [0.]\n",
            "wagons: 0.99999774 [4.2247063e-35]\n",
            "wagons: 0.84626997 [2.4188966e-24]\n",
            "wagons: 0.9999827 [9.905919e-38]\n",
            "wagons: 0.99998176 [1.1127562e-34]\n",
            "wagons: 0.99999726 [5.073944e-38]\n",
            "wagons: 0.9999981 [0.]\n",
            "wagons: 0.99998856 [8.8118605e-36]\n",
            "wagons: 0.9999734 [1.04353234e-35]\n",
            "wagons: 0.9984781 [3.6503052e-31]\n",
            "wagons: 0.98505175 [8.306427e-33]\n",
            "wagons: 0.99999905 [0.]\n",
            "wagons: 0.99999714 [0.]\n",
            "wagons: 0.99999464 [2.7563452e-28]\n",
            "wagons: 0.9999844 [4.3119212e-38]\n",
            "wagons: 0.9999908 [6.151784e-37]\n",
            "wagons: 0.99995434 [1.4549156e-35]\n",
            "wagons: 0.9996718 [5.4442192e-28]\n",
            "wagons: 0.9999945 [1.9124732e-34]\n",
            "wagons: 0.99989295 [2.0136654e-34]\n",
            "wagons: 0.9999988 [0.]\n",
            "wagons: 1.0 [0.]\n",
            "wagons: 1.0 [0.]\n",
            "wagons: 0.99998415 [9.963478e-32]\n",
            "wagons: 0.9997389 [1.9914308e-24]\n",
            "wagons: 0.999995 [2.1074006e-33]\n",
            "wagons: 0.9999478 [4.9726875e-33]\n",
            "wagons: 0.9999223 [2.0628164e-36]\n",
            "wagons: 0.9999844 [1.791065e-28]\n",
            "wagons: 0.99996424 [2.1825327e-32]\n",
            "wagons: 0.5922637 [2.8552364e-18]\n",
            "wagons: 0.9993051 [2.1727041e-26]\n",
            "wagons: 1.0 [0.]\n",
            "wagons: 0.99999905 [0.]\n",
            "wagons: 0.99990773 [0.]\n",
            "wagons: 0.9995435 [1.5842646e-24]\n",
            "wagons: 0.99889576 [1.0668406e-29]\n",
            "wagons: 0.2855205 [0.08896579]\n",
            "wagons: 0.99813616 [4.0035974e-27]\n",
            "wagons: 0.9999976 [8.583367e-37]\n",
            "wagons: 0.9999883 [4.985163e-34]\n",
            "wagons: 0.9999517 [1.2945066e-29]\n",
            "wagons: 0.99998724 [3.9988463e-29]\n",
            "wagons: 0.9999989 [0.]\n",
            "wagons: 1.0 [0.]\n",
            "wagons: 0.9999881 [2.7952266e-28]\n",
            "wagons: 0.99932814 [3.605179e-30]\n",
            "wagons: 0.9999999 [9.57164e-37]\n",
            "wagons: 0.9999988 [0.]\n",
            "wagons: 0.9996834 [6.078384e-34]\n",
            "wagons: 0.96220994 [7.236973e-21]\n",
            "wagons: 0.99999654 [5.412417e-34]\n",
            "wagons: 0.99973947 [3.4139491e-25]\n",
            "wagons: 0.99991596 [8.711069e-34]\n",
            "wagons: 0.99999857 [3.2564937e-33]\n",
            "wagons: 0.99964666 [6.775801e-36]\n",
            "wagons: 0.9999944 [1.8906082e-29]\n",
            "wagons: 0.99817693 [3.3667156e-19]\n",
            "wagons: 0.99979836 [2.7263014e-28]\n",
            "wagons: 1.0 [0.]\n",
            "wagons: 0.9999802 [1.6921415e-27]\n",
            "wagons: 0.9999211 [2.7553317e-31]\n",
            "wagons: 0.99997747 [2.1504484e-34]\n",
            "wagons: 1.0 [0.]\n",
            "wagons: 0.9999732 [2.506023e-38]\n",
            "wagons: 0.9999999 [2.3025879e-38]\n",
            "wagons: 0.9967998 [5.176368e-23]\n",
            "wagons: 0.99999285 [8.842281e-33]\n",
            "wagons: 0.9999757 [5.853499e-31]\n",
            "wagons: 0.9988776 [3.863255e-28]\n",
            "wagons: 0.99966013 [4.7944335e-22]\n",
            "wagons: 0.99998295 [2.8791187e-29]\n",
            "wagons: 0.9999956 [0.]\n",
            "wagons: 0.9999975 [0.]\n",
            "wagons: 0.9999628 [0.]\n",
            "wagons: 0.997221 [1.6951266e-19]\n",
            "wagons: 0.9999982 [9.3758526e-35]\n",
            "wagons: 0.9999913 [1.2829639e-36]\n",
            "wagons: 1.0 [0.]\n",
            "wagons: 0.98609215 [2.210282e-25]\n",
            "wagons: 0.99999213 [1.7949702e-36]\n",
            "wagons: 0.99940574 [5.4560937e-27]\n",
            "wagons: 0.9999981 [4.61375e-38]\n",
            "wagons: 1.0 [0.]\n",
            "wagons: 0.9999995 [0.]\n",
            "wagons: 0.9999999 [0.]\n",
            "wagons: 0.99968576 [6.5524516e-33]\n",
            "wagons: 0.99999 [4.0324693e-37]\n",
            "wagons: 0.99998343 [4.8829787e-28]\n",
            "wagons: 0.9999988 [1.20966415e-36]\n",
            "wagons: 0.9989766 [4.4131976e-16]\n",
            "wagons: 0.9999969 [4.25921e-33]\n",
            "wagons: 0.9992355 [2.9059195e-22]\n",
            "wagons: 0.9999833 [4.3190413e-34]\n",
            "wagons: 0.9997297 [2.0614134e-31]\n",
            "wagons: 0.9999869 [3.732962e-33]\n",
            "wagons: 0.99947625 [3.2329698e-22]\n",
            "wagons: 0.9999161 [0.]\n",
            "wagons: 0.99998105 [2.0439792e-35]\n",
            "wagons: 0.99979347 [8.6252734e-24]\n",
            "wagons: 0.99999917 [0.]\n",
            "wagons: 0.99998045 [1.8216994e-37]\n",
            "wagons: 0.9999931 [6.93804e-30]\n",
            "wagons: 0.87766415 [1.823013e-15]\n",
            "wagons: 0.99997973 [0.]\n",
            "wagons: 0.9999856 [2.9685413e-36]\n",
            "164\n"
          ]
        }
      ]
    },
    {
      "cell_type": "code",
      "source": [
        "print('./')\n",
        "os.chdir('/content/')\n",
        "import os\n",
        "img_dir = '/content/drive/MyDrive/Colab Notebooks/Train Data For selected 2 project/natural_images/N/Test/dog/' # Enter Directory of all images.\n",
        "data_path = os. path. join(img_dir,'*g')\n",
        "files = glob. glob(data_path)\n",
        "data = []\n",
        "data_path = os. path. join(img_dir,'*g')\n",
        "files = glob. glob(data_path)\n",
        "data = []\n",
        "for f1 in files:\n",
        "  img = image.load_img(f1, target_size=(324, 324))\n",
        "  x = image.img_to_array(img)\n",
        "  x = np.expand_dims(x, axis=0)\n",
        "  images = np.vstack([x])\n",
        "  classesw1 = model1.predict(images, batch_size=10)\n",
        "  #classesw21 = model21.predict(images, batch_size=10)\n",
        "  classesw23 = model23.predict(images, batch_size=10)\n",
        "  #print('cats:',classesw1[0][2],classesw23[0])\n",
        "  if((classesw1[0][2] > .5) and (classesw23[0] > .5)):    ct_dog=ct_dog+1\n",
        "print(ct_dog)"
      ],
      "metadata": {
        "colab": {
          "base_uri": "https://localhost:8080/"
        },
        "id": "pCAuWA989GbF",
        "outputId": "5ef2943d-04a0-47ac-8cd4-2ef52f164832"
      },
      "execution_count": null,
      "outputs": [
        {
          "output_type": "stream",
          "name": "stdout",
          "text": [
            "./\n",
            "139\n"
          ]
        }
      ]
    },
    {
      "cell_type": "code",
      "source": [
        "print('./')\n",
        "os.chdir('/content/')\n",
        "import os\n",
        "img_dir = '/content/drive/MyDrive/Colab Notebooks/Train Data For selected 2 project/natural_images/N/Test/chris_evans/' # Enter Directory of all images.\n",
        "data_path = os. path. join(img_dir,'*g')\n",
        "files = glob. glob(data_path)\n",
        "data = []\n",
        "data_path = os. path. join(img_dir,'*g')\n",
        "files = glob. glob(data_path)\n",
        "data = []\n",
        "for f1 in files:\n",
        "  img = image.load_img(f1, target_size=(324, 324))\n",
        "  x = image.img_to_array(img)\n",
        "  x = np.expand_dims(x, axis=0)\n",
        "  images = np.vstack([x])\n",
        "  classesw1 = model1.predict(images, batch_size=10)\n",
        "  #classesw21 = model21.predict(images, batch_size=10)\n",
        "  classesw23 = model23.predict(images, batch_size=10)\n",
        "  print('person:',classesw1[0][2],classesw23[0])\n",
        "  if((classesw1[0][2] > .5) and (classesw23[0] < .5)):    ct_person=ct_person+1\n",
        "print(ct_person)"
      ],
      "metadata": {
        "colab": {
          "base_uri": "https://localhost:8080/"
        },
        "id": "yn328_N59I20",
        "outputId": "4e296fe5-9767-4ac5-de8b-2dafce65d0ff"
      },
      "execution_count": null,
      "outputs": [
        {
          "output_type": "stream",
          "name": "stdout",
          "text": [
            "./\n",
            "dogs: 1.0 [2.5919607e-13]\n",
            "dogs: 1.0 [7.5794094e-05]\n",
            "dogs: 1.0 [4.4588098e-09]\n",
            "dogs: 1.0 [3.4044714e-08]\n",
            "dogs: 1.0 [1.13581075e-10]\n",
            "dogs: 1.0 [2.1086072e-10]\n",
            "dogs: 1.0 [0.21105362]\n",
            "dogs: 1.0 [1.0548226e-09]\n",
            "dogs: 1.0 [2.8795673e-15]\n",
            "dogs: 1.0 [1.1280889e-12]\n",
            "dogs: 1.0 [5.596455e-05]\n",
            "dogs: 1.0 [5.2798467e-14]\n",
            "dogs: 0.00010424631 [0.99999356]\n",
            "dogs: 0.0012218894 [0.00055785]\n",
            "dogs: 1.0 [2.6977958e-12]\n",
            "25\n"
          ]
        }
      ]
    },
    {
      "cell_type": "code",
      "source": [
        "ct_total=ct_motorbike+ct_airplane+ct_car+ct_flower+ct_person+ct_dog"
      ],
      "metadata": {
        "id": "oNGIpPI49K67"
      },
      "execution_count": null,
      "outputs": []
    },
    {
      "cell_type": "code",
      "source": [
        "print('Total = ',ct_total)\n",
        "print('Breakup = ',ct_person,ct_dog,ct_motorbike, ct_airplane, ct_car, ct_flower)  \n",
        "print('accuracy=',ct_total/977) "
      ],
      "metadata": {
        "colab": {
          "base_uri": "https://localhost:8080/"
        },
        "id": "TuRBxsSu9Oe2",
        "outputId": "23cfc4f6-bb27-464f-dac2-958b38161ae7"
      },
      "execution_count": null,
      "outputs": [
        {
          "output_type": "stream",
          "name": "stdout",
          "text": [
            "Total =  967\n",
            "Breakup =  168 166 164 164 139 166\n",
            "accuracy= 0.9897645854657113\n"
          ]
        }
      ]
    }
  ]
}